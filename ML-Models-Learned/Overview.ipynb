{
 "cells": [
  {
   "cell_type": "markdown",
   "id": "53587f28-d9b9-41c5-967e-77b31cd4e7e8",
   "metadata": {},
   "source": [
    "# ML Overview"
   ]
  },
  {
   "cell_type": "markdown",
   "id": "4a67e38f-e443-4d3f-a024-62ddb8a7fa79",
   "metadata": {},
   "source": [
    "## Supervised Learning\n",
    "\n",
    "The key characteristic of supervised learning is that you give your learning algorithm examples to learn from. That includes the right answers, whereby right answer, I mean, the correct label y for a given input x."
   ]
  },
  {
   "cell_type": "markdown",
   "id": "01d34637-e298-4eb3-9dbf-ce51b004acd4",
   "metadata": {},
   "source": [
    "<kdb><img src=\"https://i.imgur.com/byWrfbq.png\" alt=\"img\" width=\"500\"></kdb>"
   ]
  },
  {
   "cell_type": "markdown",
   "id": "12ce2db9-ec8a-4bf4-8186-892eddc40672",
   "metadata": {},
   "source": [
    "### Regression\n",
    "\n",
    "The particular type of supervised learning called **regression**. By regression, I mean we're trying to predict a number from infinitely many possible numbers such as the house prices in our example, which could be 150,000 or 70,000 or 183,000 or any other number in between. "
   ]
  },
  {
   "cell_type": "markdown",
   "id": "cfd81926-f51b-4b19-b7f6-d8891fd3af1b",
   "metadata": {},
   "source": [
    "<kdb><img src=\"https://i.imgur.com/fjHqKrD.png\" alt=\"img\" width=\"500\"></kdb>"
   ]
  },
  {
   "cell_type": "markdown",
   "id": "0e1868b7-61d0-4053-9ab8-5abc4fd6575b",
   "metadata": {},
   "source": [
    "### Classification\n",
    "\n",
    "**Classification** algorithms predict categories. Categories don't have to be numbers. It could be non numeric for example, it can predict whether a picture is that of a cat or a dog. And it can predict if a tumor is benign or malignant. Categories can also be numbers like 0, 1 or 0, 1, 2."
   ]
  },
  {
   "cell_type": "markdown",
   "id": "511c4ba7-f66e-4d8a-a2cb-ced8a832ed67",
   "metadata": {},
   "source": [
    "<kdb><img src=\"https://i.imgur.com/pEvhXPV.png\" alt=\"img\" width=\"500\"></kdb>"
   ]
  },
  {
   "cell_type": "markdown",
   "id": "705dfada-cd77-4e71-992d-fbec191daf6f",
   "metadata": {},
   "source": [
    "## Unsupervised Learning\n",
    "\n",
    "We call it unsupervised because we're not trying to supervise the algorithm. To give some quote right answer for every input, instead, we asked the our room to figure out all by yourself what's interesting. Or what patterns or structures that might be in this data."
   ]
  },
  {
   "cell_type": "markdown",
   "id": "f9c89314-c885-4457-9a49-620a0c4557a5",
   "metadata": {},
   "source": [
    "<kdb><img src=\"https://i.imgur.com/ItdO6z8.png\" alt=\"img\" width=\"500\"></kdb>"
   ]
  },
  {
   "cell_type": "code",
   "execution_count": null,
   "id": "876c5174-0cc8-42df-9903-b821684de0a1",
   "metadata": {},
   "outputs": [],
   "source": []
  }
 ],
 "metadata": {
  "kernelspec": {
   "display_name": "Python 3 (ipykernel)",
   "language": "python",
   "name": "python3"
  },
  "language_info": {
   "codemirror_mode": {
    "name": "ipython",
    "version": 3
   },
   "file_extension": ".py",
   "mimetype": "text/x-python",
   "name": "python",
   "nbconvert_exporter": "python",
   "pygments_lexer": "ipython3",
   "version": "3.8.10"
  }
 },
 "nbformat": 4,
 "nbformat_minor": 5
}
