{
 "cells": [
  {
   "cell_type": "markdown",
   "id": "1e382105",
   "metadata": {},
   "source": [
    "## Logistic Regression\n",
    "\n",
    "Logistic regression is a commonly used technique **for solving binary classification problems**.\n",
    "\n",
    "* In this case, we are predicting if the package is going to arrive on time. (Classes are \"1\" for yes and \"0\" for no.)\n",
    "\n",
    "Logistic regression is a commonly used technique for solving binary classification problems. In a logistic regression model: \n",
    "\n",
    "- we take linear combination (or weighted sum of the input features) \n",
    "- we apply the sigmoid function to the result to obtain a number between 0 and 1\n",
    "- this number represents the probability of the input being classified as \"Yes\"\n",
    "- instead of RMSE, the cross entropy loss function is used to evaluate the results\n",
    "\n",
    "\n",
    "Here's a visual summary of how a logistic regression model is structured:\n",
    "\n",
    "\n",
    "<img src=\"https://i.imgur.com/YMaMo5D.png\" width=\"480\">\n",
    "\n",
    "The sigmoid function applied to the linear combination of inputs has the following formula:\n",
    "\n",
    "<img src=\"https://i.imgur.com/sAVwvZP.png\" width=\"400\">"
   ]
  },
  {
   "cell_type": "markdown",
   "id": "93ca1ea4",
   "metadata": {},
   "source": [
    "### Steps\n",
    "\n",
    "1. Loading data from parquet and joblib.\n",
    "2. Training a logistic regression model using Scikit-learn.\n",
    "3. Evaluating a model using a validation set and test set.\n",
    "4. Getting and saving predictions.\n",
    "5. Conclusions about the model applied."
   ]
  },
  {
   "cell_type": "markdown",
   "id": "6a501a94",
   "metadata": {},
   "source": [
    "## Loading data from parquet and joblib"
   ]
  },
  {
   "cell_type": "markdown",
   "id": "8d6ce3e8",
   "metadata": {},
   "source": [
    "First of all, We get a simple extension for Jupyter Notebook and Jupyter Lab to beautify Python code automatically using Black."
   ]
  },
  {
   "cell_type": "code",
   "execution_count": 30,
   "id": "26d2fbcd",
   "metadata": {},
   "outputs": [
    {
     "name": "stdout",
     "output_type": "stream",
     "text": [
      "The nb_black extension is already loaded. To reload it, use:\n",
      "  %reload_ext nb_black\n"
     ]
    },
    {
     "data": {
      "application/javascript": [
       "\n",
       "            setTimeout(function() {\n",
       "                var nbb_cell_id = 30;\n",
       "                var nbb_unformatted_code = \"%load_ext nb_black\";\n",
       "                var nbb_formatted_code = \"%load_ext nb_black\";\n",
       "                var nbb_cells = Jupyter.notebook.get_cells();\n",
       "                for (var i = 0; i < nbb_cells.length; ++i) {\n",
       "                    if (nbb_cells[i].input_prompt_number == nbb_cell_id) {\n",
       "                        if (nbb_cells[i].get_text() == nbb_unformatted_code) {\n",
       "                             nbb_cells[i].set_text(nbb_formatted_code);\n",
       "                        }\n",
       "                        break;\n",
       "                    }\n",
       "                }\n",
       "            }, 500);\n",
       "            "
      ],
      "text/plain": [
       "<IPython.core.display.Javascript object>"
      ]
     },
     "metadata": {},
     "output_type": "display_data"
    }
   ],
   "source": [
    "%load_ext nb_black"
   ]
  },
  {
   "cell_type": "markdown",
   "id": "df2e5bad",
   "metadata": {},
   "source": [
    "Lets import the basic modules we are going to use."
   ]
  },
  {
   "cell_type": "code",
   "execution_count": 31,
   "id": "5836d52d",
   "metadata": {},
   "outputs": [
    {
     "data": {
      "application/javascript": [
       "\n",
       "            setTimeout(function() {\n",
       "                var nbb_cell_id = 31;\n",
       "                var nbb_unformatted_code = \"import numpy as np\\nimport pandas as pd\\nimport matplotlib.pyplot as plt\\nimport seaborn as sns\\n\\n%matplotlib inline\";\n",
       "                var nbb_formatted_code = \"import numpy as np\\nimport pandas as pd\\nimport matplotlib.pyplot as plt\\nimport seaborn as sns\\n\\n%matplotlib inline\";\n",
       "                var nbb_cells = Jupyter.notebook.get_cells();\n",
       "                for (var i = 0; i < nbb_cells.length; ++i) {\n",
       "                    if (nbb_cells[i].input_prompt_number == nbb_cell_id) {\n",
       "                        if (nbb_cells[i].get_text() == nbb_unformatted_code) {\n",
       "                             nbb_cells[i].set_text(nbb_formatted_code);\n",
       "                        }\n",
       "                        break;\n",
       "                    }\n",
       "                }\n",
       "            }, 500);\n",
       "            "
      ],
      "text/plain": [
       "<IPython.core.display.Javascript object>"
      ]
     },
     "metadata": {},
     "output_type": "display_data"
    }
   ],
   "source": [
    "import numpy as np\n",
    "import pandas as pd\n",
    "import matplotlib.pyplot as plt\n",
    "import seaborn as sns\n",
    "\n",
    "%matplotlib inline"
   ]
  },
  {
   "cell_type": "markdown",
   "id": "5062097b",
   "metadata": {},
   "source": [
    "The following settings will improve the default style and font sizes for our charts."
   ]
  },
  {
   "cell_type": "code",
   "execution_count": 32,
   "id": "f696a051",
   "metadata": {},
   "outputs": [
    {
     "data": {
      "application/javascript": [
       "\n",
       "            setTimeout(function() {\n",
       "                var nbb_cell_id = 32;\n",
       "                var nbb_unformatted_code = \"import matplotlib\\n\\nsns.set_style(\\\"darkgrid\\\")  # Dark grid background\\nmatplotlib.rcParams[\\\"font.size\\\"] = 14\\nmatplotlib.rcParams[\\\"figure.figsize\\\"] = (10, 6)\\nmatplotlib.rcParams[\\\"figure.facecolor\\\"] = \\\"#00000000\\\"\\npd.set_option(\\\"display.max_columns\\\", None)  # To show all columns\";\n",
       "                var nbb_formatted_code = \"import matplotlib\\n\\nsns.set_style(\\\"darkgrid\\\")  # Dark grid background\\nmatplotlib.rcParams[\\\"font.size\\\"] = 14\\nmatplotlib.rcParams[\\\"figure.figsize\\\"] = (10, 6)\\nmatplotlib.rcParams[\\\"figure.facecolor\\\"] = \\\"#00000000\\\"\\npd.set_option(\\\"display.max_columns\\\", None)  # To show all columns\";\n",
       "                var nbb_cells = Jupyter.notebook.get_cells();\n",
       "                for (var i = 0; i < nbb_cells.length; ++i) {\n",
       "                    if (nbb_cells[i].input_prompt_number == nbb_cell_id) {\n",
       "                        if (nbb_cells[i].get_text() == nbb_unformatted_code) {\n",
       "                             nbb_cells[i].set_text(nbb_formatted_code);\n",
       "                        }\n",
       "                        break;\n",
       "                    }\n",
       "                }\n",
       "            }, 500);\n",
       "            "
      ],
      "text/plain": [
       "<IPython.core.display.Javascript object>"
      ]
     },
     "metadata": {},
     "output_type": "display_data"
    }
   ],
   "source": [
    "import matplotlib\n",
    "\n",
    "sns.set_style(\"darkgrid\")  # Dark grid background\n",
    "matplotlib.rcParams[\"font.size\"] = 14\n",
    "matplotlib.rcParams[\"figure.figsize\"] = (10, 6)\n",
    "matplotlib.rcParams[\"figure.facecolor\"] = \"#00000000\"\n",
    "pd.set_option(\"display.max_columns\", None)  # To show all columns"
   ]
  },
  {
   "cell_type": "markdown",
   "id": "64b97eac",
   "metadata": {},
   "source": [
    "Let's read the data back using pd.read_parquet."
   ]
  },
  {
   "cell_type": "code",
   "execution_count": 33,
   "id": "17fec245",
   "metadata": {},
   "outputs": [
    {
     "data": {
      "application/javascript": [
       "\n",
       "            setTimeout(function() {\n",
       "                var nbb_cell_id = 33;\n",
       "                var nbb_unformatted_code = \"train_inputs = pd.read_parquet(\\\"../Datawarehouse/train_inputs.parquet\\\")\\nval_inputs = pd.read_parquet(\\\"../Datawarehouse/val_inputs.parquet\\\")\\ntest_inputs = pd.read_parquet(\\\"../Datawarehouse/test_inputs.parquet\\\")\\n\\ntrain_targets = pd.read_parquet(\\\"../Datawarehouse/train_targets.parquet\\\")[\\n    \\\"Reached.on.Time_Y.N\\\"\\n]\\nval_targets = pd.read_parquet(\\\"../Datawarehouse/val_targets.parquet\\\")[\\n    \\\"Reached.on.Time_Y.N\\\"\\n]\\n# test_targets = pd.read_parquet('../Datawarehouse/val_targets.parquet')[\\\"Reached.on.Time_Y.N\\\"]\";\n",
       "                var nbb_formatted_code = \"train_inputs = pd.read_parquet(\\\"../Datawarehouse/train_inputs.parquet\\\")\\nval_inputs = pd.read_parquet(\\\"../Datawarehouse/val_inputs.parquet\\\")\\ntest_inputs = pd.read_parquet(\\\"../Datawarehouse/test_inputs.parquet\\\")\\n\\ntrain_targets = pd.read_parquet(\\\"../Datawarehouse/train_targets.parquet\\\")[\\n    \\\"Reached.on.Time_Y.N\\\"\\n]\\nval_targets = pd.read_parquet(\\\"../Datawarehouse/val_targets.parquet\\\")[\\n    \\\"Reached.on.Time_Y.N\\\"\\n]\\n# test_targets = pd.read_parquet('../Datawarehouse/val_targets.parquet')[\\\"Reached.on.Time_Y.N\\\"]\";\n",
       "                var nbb_cells = Jupyter.notebook.get_cells();\n",
       "                for (var i = 0; i < nbb_cells.length; ++i) {\n",
       "                    if (nbb_cells[i].input_prompt_number == nbb_cell_id) {\n",
       "                        if (nbb_cells[i].get_text() == nbb_unformatted_code) {\n",
       "                             nbb_cells[i].set_text(nbb_formatted_code);\n",
       "                        }\n",
       "                        break;\n",
       "                    }\n",
       "                }\n",
       "            }, 500);\n",
       "            "
      ],
      "text/plain": [
       "<IPython.core.display.Javascript object>"
      ]
     },
     "metadata": {},
     "output_type": "display_data"
    }
   ],
   "source": [
    "train_inputs = pd.read_parquet(\"../Datawarehouse/train_inputs.parquet\")\n",
    "val_inputs = pd.read_parquet(\"../Datawarehouse/val_inputs.parquet\")\n",
    "test_inputs = pd.read_parquet(\"../Datawarehouse/test_inputs.parquet\")\n",
    "\n",
    "train_targets = pd.read_parquet(\"../Datawarehouse/train_targets.parquet\")[\n",
    "    \"Reached.on.Time_Y.N\"\n",
    "]\n",
    "val_targets = pd.read_parquet(\"../Datawarehouse/val_targets.parquet\")[\n",
    "    \"Reached.on.Time_Y.N\"\n",
    "]\n",
    "# test_targets = pd.read_parquet('../Datawarehouse/val_targets.parquet')[\"Reached.on.Time_Y.N\"]"
   ]
  },
  {
   "cell_type": "markdown",
   "id": "461ddd13",
   "metadata": {},
   "source": [
    "Let's verify that the data was loaded properly."
   ]
  },
  {
   "cell_type": "code",
   "execution_count": 34,
   "id": "6179b2fe",
   "metadata": {},
   "outputs": [
    {
     "name": "stdout",
     "output_type": "stream",
     "text": [
      "train_inputs: (6749, 23)\n",
      "train_targets: (6749,)\n",
      "val_inputs: (2250, 23)\n",
      "val_targets: (2250,)\n",
      "test_inputs: (2000, 23)\n"
     ]
    },
    {
     "data": {
      "application/javascript": [
       "\n",
       "            setTimeout(function() {\n",
       "                var nbb_cell_id = 34;\n",
       "                var nbb_unformatted_code = \"print(\\\"train_inputs:\\\", train_inputs.shape)\\nprint(\\\"train_targets:\\\", train_targets.shape)\\nprint(\\\"val_inputs:\\\", val_inputs.shape)\\nprint(\\\"val_targets:\\\", val_targets.shape)\\nprint(\\\"test_inputs:\\\", test_inputs.shape)\\n# print(\\\"test_targets:\\\", test_targets)\";\n",
       "                var nbb_formatted_code = \"print(\\\"train_inputs:\\\", train_inputs.shape)\\nprint(\\\"train_targets:\\\", train_targets.shape)\\nprint(\\\"val_inputs:\\\", val_inputs.shape)\\nprint(\\\"val_targets:\\\", val_targets.shape)\\nprint(\\\"test_inputs:\\\", test_inputs.shape)\\n# print(\\\"test_targets:\\\", test_targets)\";\n",
       "                var nbb_cells = Jupyter.notebook.get_cells();\n",
       "                for (var i = 0; i < nbb_cells.length; ++i) {\n",
       "                    if (nbb_cells[i].input_prompt_number == nbb_cell_id) {\n",
       "                        if (nbb_cells[i].get_text() == nbb_unformatted_code) {\n",
       "                             nbb_cells[i].set_text(nbb_formatted_code);\n",
       "                        }\n",
       "                        break;\n",
       "                    }\n",
       "                }\n",
       "            }, 500);\n",
       "            "
      ],
      "text/plain": [
       "<IPython.core.display.Javascript object>"
      ]
     },
     "metadata": {},
     "output_type": "display_data"
    }
   ],
   "source": [
    "print(\"train_inputs:\", train_inputs.shape)\n",
    "print(\"train_targets:\", train_targets.shape)\n",
    "print(\"val_inputs:\", val_inputs.shape)\n",
    "print(\"val_targets:\", val_targets.shape)\n",
    "print(\"test_inputs:\", test_inputs.shape)\n",
    "# print(\"test_targets:\", test_targets)"
   ]
  },
  {
   "cell_type": "markdown",
   "id": "c451ad3b",
   "metadata": {},
   "source": [
    "There are some objects from EDA.ipynb that must be loaded back using joblib.load"
   ]
  },
  {
   "cell_type": "code",
   "execution_count": 35,
   "id": "9e24f1fb",
   "metadata": {},
   "outputs": [
    {
     "data": {
      "application/javascript": [
       "\n",
       "            setTimeout(function() {\n",
       "                var nbb_cell_id = 35;\n",
       "                var nbb_unformatted_code = \"import joblib\";\n",
       "                var nbb_formatted_code = \"import joblib\";\n",
       "                var nbb_cells = Jupyter.notebook.get_cells();\n",
       "                for (var i = 0; i < nbb_cells.length; ++i) {\n",
       "                    if (nbb_cells[i].input_prompt_number == nbb_cell_id) {\n",
       "                        if (nbb_cells[i].get_text() == nbb_unformatted_code) {\n",
       "                             nbb_cells[i].set_text(nbb_formatted_code);\n",
       "                        }\n",
       "                        break;\n",
       "                    }\n",
       "                }\n",
       "            }, 500);\n",
       "            "
      ],
      "text/plain": [
       "<IPython.core.display.Javascript object>"
      ]
     },
     "metadata": {},
     "output_type": "display_data"
    }
   ],
   "source": [
    "import joblib"
   ]
  },
  {
   "cell_type": "code",
   "execution_count": 36,
   "id": "ad7422d7",
   "metadata": {},
   "outputs": [
    {
     "data": {
      "application/javascript": [
       "\n",
       "            setTimeout(function() {\n",
       "                var nbb_cell_id = 36;\n",
       "                var nbb_unformatted_code = \"eda = joblib.load(\\\"../eda_basics_features.joblib\\\")\";\n",
       "                var nbb_formatted_code = \"eda = joblib.load(\\\"../eda_basics_features.joblib\\\")\";\n",
       "                var nbb_cells = Jupyter.notebook.get_cells();\n",
       "                for (var i = 0; i < nbb_cells.length; ++i) {\n",
       "                    if (nbb_cells[i].input_prompt_number == nbb_cell_id) {\n",
       "                        if (nbb_cells[i].get_text() == nbb_unformatted_code) {\n",
       "                             nbb_cells[i].set_text(nbb_formatted_code);\n",
       "                        }\n",
       "                        break;\n",
       "                    }\n",
       "                }\n",
       "            }, 500);\n",
       "            "
      ],
      "text/plain": [
       "<IPython.core.display.Javascript object>"
      ]
     },
     "metadata": {},
     "output_type": "display_data"
    }
   ],
   "source": [
    "eda = joblib.load(\"../eda_basics_features.joblib\")"
   ]
  },
  {
   "cell_type": "markdown",
   "id": "7de59016",
   "metadata": {},
   "source": [
    "Let's load each dataframe ready for the models"
   ]
  },
  {
   "cell_type": "code",
   "execution_count": 37,
   "id": "dc90ac6a",
   "metadata": {},
   "outputs": [
    {
     "data": {
      "application/javascript": [
       "\n",
       "            setTimeout(function() {\n",
       "                var nbb_cell_id = 37;\n",
       "                var nbb_unformatted_code = \"X_train = train_inputs[eda[\\\"numeric_cols\\\"] + eda[\\\"encoded_cols\\\"]]\\nX_val = val_inputs[eda[\\\"numeric_cols\\\"] + eda[\\\"encoded_cols\\\"]]\\nX_test = test_inputs[eda[\\\"numeric_cols\\\"] + eda[\\\"encoded_cols\\\"]]\";\n",
       "                var nbb_formatted_code = \"X_train = train_inputs[eda[\\\"numeric_cols\\\"] + eda[\\\"encoded_cols\\\"]]\\nX_val = val_inputs[eda[\\\"numeric_cols\\\"] + eda[\\\"encoded_cols\\\"]]\\nX_test = test_inputs[eda[\\\"numeric_cols\\\"] + eda[\\\"encoded_cols\\\"]]\";\n",
       "                var nbb_cells = Jupyter.notebook.get_cells();\n",
       "                for (var i = 0; i < nbb_cells.length; ++i) {\n",
       "                    if (nbb_cells[i].input_prompt_number == nbb_cell_id) {\n",
       "                        if (nbb_cells[i].get_text() == nbb_unformatted_code) {\n",
       "                             nbb_cells[i].set_text(nbb_formatted_code);\n",
       "                        }\n",
       "                        break;\n",
       "                    }\n",
       "                }\n",
       "            }, 500);\n",
       "            "
      ],
      "text/plain": [
       "<IPython.core.display.Javascript object>"
      ]
     },
     "metadata": {},
     "output_type": "display_data"
    }
   ],
   "source": [
    "X_train = train_inputs[eda[\"numeric_cols\"] + eda[\"encoded_cols\"]]\n",
    "X_val = val_inputs[eda[\"numeric_cols\"] + eda[\"encoded_cols\"]]\n",
    "X_test = test_inputs[eda[\"numeric_cols\"] + eda[\"encoded_cols\"]]"
   ]
  },
  {
   "cell_type": "markdown",
   "id": "e59df6b9",
   "metadata": {},
   "source": [
    "## Training a logistic regression model using Scikit-learn\n",
    "\n",
    "Logistic regression is a commonly used technique for solving binary classification problems. In a logistic regression model: \n",
    "\n",
    "- we take linear combination (or weighted sum of the input features) \n",
    "- we apply the sigmoid function to the result to obtain a number between 0 and 1\n",
    "- this number represents the probability of the input being classified as \"Yes\"\n",
    "- instead of RMSE, the cross entropy loss function is used to evaluate the results\n",
    "\n",
    "To train a logistic regression model, we can use the `LogisticRegression` class from Scikit-learn."
   ]
  },
  {
   "cell_type": "code",
   "execution_count": 38,
   "id": "a9bdb283",
   "metadata": {},
   "outputs": [
    {
     "data": {
      "application/javascript": [
       "\n",
       "            setTimeout(function() {\n",
       "                var nbb_cell_id = 38;\n",
       "                var nbb_unformatted_code = \"from sklearn.linear_model import LogisticRegression\";\n",
       "                var nbb_formatted_code = \"from sklearn.linear_model import LogisticRegression\";\n",
       "                var nbb_cells = Jupyter.notebook.get_cells();\n",
       "                for (var i = 0; i < nbb_cells.length; ++i) {\n",
       "                    if (nbb_cells[i].input_prompt_number == nbb_cell_id) {\n",
       "                        if (nbb_cells[i].get_text() == nbb_unformatted_code) {\n",
       "                             nbb_cells[i].set_text(nbb_formatted_code);\n",
       "                        }\n",
       "                        break;\n",
       "                    }\n",
       "                }\n",
       "            }, 500);\n",
       "            "
      ],
      "text/plain": [
       "<IPython.core.display.Javascript object>"
      ]
     },
     "metadata": {},
     "output_type": "display_data"
    }
   ],
   "source": [
    "from sklearn.linear_model import LogisticRegression"
   ]
  },
  {
   "cell_type": "markdown",
   "id": "52a090b8",
   "metadata": {},
   "source": [
    "First, we intanciate the class and then we train the model."
   ]
  },
  {
   "cell_type": "code",
   "execution_count": 39,
   "id": "a5c381f6",
   "metadata": {},
   "outputs": [
    {
     "data": {
      "application/javascript": [
       "\n",
       "            setTimeout(function() {\n",
       "                var nbb_cell_id = 39;\n",
       "                var nbb_unformatted_code = \"model = LogisticRegression(solver=\\\"liblinear\\\")\";\n",
       "                var nbb_formatted_code = \"model = LogisticRegression(solver=\\\"liblinear\\\")\";\n",
       "                var nbb_cells = Jupyter.notebook.get_cells();\n",
       "                for (var i = 0; i < nbb_cells.length; ++i) {\n",
       "                    if (nbb_cells[i].input_prompt_number == nbb_cell_id) {\n",
       "                        if (nbb_cells[i].get_text() == nbb_unformatted_code) {\n",
       "                             nbb_cells[i].set_text(nbb_formatted_code);\n",
       "                        }\n",
       "                        break;\n",
       "                    }\n",
       "                }\n",
       "            }, 500);\n",
       "            "
      ],
      "text/plain": [
       "<IPython.core.display.Javascript object>"
      ]
     },
     "metadata": {},
     "output_type": "display_data"
    }
   ],
   "source": [
    "model = LogisticRegression(solver=\"liblinear\")"
   ]
  },
  {
   "cell_type": "code",
   "execution_count": 40,
   "id": "538cb893",
   "metadata": {},
   "outputs": [
    {
     "data": {
      "text/html": [
       "<style>#sk-container-id-2 {color: black;background-color: white;}#sk-container-id-2 pre{padding: 0;}#sk-container-id-2 div.sk-toggleable {background-color: white;}#sk-container-id-2 label.sk-toggleable__label {cursor: pointer;display: block;width: 100%;margin-bottom: 0;padding: 0.3em;box-sizing: border-box;text-align: center;}#sk-container-id-2 label.sk-toggleable__label-arrow:before {content: \"▸\";float: left;margin-right: 0.25em;color: #696969;}#sk-container-id-2 label.sk-toggleable__label-arrow:hover:before {color: black;}#sk-container-id-2 div.sk-estimator:hover label.sk-toggleable__label-arrow:before {color: black;}#sk-container-id-2 div.sk-toggleable__content {max-height: 0;max-width: 0;overflow: hidden;text-align: left;background-color: #f0f8ff;}#sk-container-id-2 div.sk-toggleable__content pre {margin: 0.2em;color: black;border-radius: 0.25em;background-color: #f0f8ff;}#sk-container-id-2 input.sk-toggleable__control:checked~div.sk-toggleable__content {max-height: 200px;max-width: 100%;overflow: auto;}#sk-container-id-2 input.sk-toggleable__control:checked~label.sk-toggleable__label-arrow:before {content: \"▾\";}#sk-container-id-2 div.sk-estimator input.sk-toggleable__control:checked~label.sk-toggleable__label {background-color: #d4ebff;}#sk-container-id-2 div.sk-label input.sk-toggleable__control:checked~label.sk-toggleable__label {background-color: #d4ebff;}#sk-container-id-2 input.sk-hidden--visually {border: 0;clip: rect(1px 1px 1px 1px);clip: rect(1px, 1px, 1px, 1px);height: 1px;margin: -1px;overflow: hidden;padding: 0;position: absolute;width: 1px;}#sk-container-id-2 div.sk-estimator {font-family: monospace;background-color: #f0f8ff;border: 1px dotted black;border-radius: 0.25em;box-sizing: border-box;margin-bottom: 0.5em;}#sk-container-id-2 div.sk-estimator:hover {background-color: #d4ebff;}#sk-container-id-2 div.sk-parallel-item::after {content: \"\";width: 100%;border-bottom: 1px solid gray;flex-grow: 1;}#sk-container-id-2 div.sk-label:hover label.sk-toggleable__label {background-color: #d4ebff;}#sk-container-id-2 div.sk-serial::before {content: \"\";position: absolute;border-left: 1px solid gray;box-sizing: border-box;top: 0;bottom: 0;left: 50%;z-index: 0;}#sk-container-id-2 div.sk-serial {display: flex;flex-direction: column;align-items: center;background-color: white;padding-right: 0.2em;padding-left: 0.2em;position: relative;}#sk-container-id-2 div.sk-item {position: relative;z-index: 1;}#sk-container-id-2 div.sk-parallel {display: flex;align-items: stretch;justify-content: center;background-color: white;position: relative;}#sk-container-id-2 div.sk-item::before, #sk-container-id-2 div.sk-parallel-item::before {content: \"\";position: absolute;border-left: 1px solid gray;box-sizing: border-box;top: 0;bottom: 0;left: 50%;z-index: -1;}#sk-container-id-2 div.sk-parallel-item {display: flex;flex-direction: column;z-index: 1;position: relative;background-color: white;}#sk-container-id-2 div.sk-parallel-item:first-child::after {align-self: flex-end;width: 50%;}#sk-container-id-2 div.sk-parallel-item:last-child::after {align-self: flex-start;width: 50%;}#sk-container-id-2 div.sk-parallel-item:only-child::after {width: 0;}#sk-container-id-2 div.sk-dashed-wrapped {border: 1px dashed gray;margin: 0 0.4em 0.5em 0.4em;box-sizing: border-box;padding-bottom: 0.4em;background-color: white;}#sk-container-id-2 div.sk-label label {font-family: monospace;font-weight: bold;display: inline-block;line-height: 1.2em;}#sk-container-id-2 div.sk-label-container {text-align: center;}#sk-container-id-2 div.sk-container {/* jupyter's `normalize.less` sets `[hidden] { display: none; }` but bootstrap.min.css set `[hidden] { display: none !important; }` so we also need the `!important` here to be able to override the default hidden behavior on the sphinx rendered scikit-learn.org. See: https://github.com/scikit-learn/scikit-learn/issues/21755 */display: inline-block !important;position: relative;}#sk-container-id-2 div.sk-text-repr-fallback {display: none;}</style><div id=\"sk-container-id-2\" class=\"sk-top-container\"><div class=\"sk-text-repr-fallback\"><pre>LogisticRegression(solver=&#x27;liblinear&#x27;)</pre><b>In a Jupyter environment, please rerun this cell to show the HTML representation or trust the notebook. <br />On GitHub, the HTML representation is unable to render, please try loading this page with nbviewer.org.</b></div><div class=\"sk-container\" hidden><div class=\"sk-item\"><div class=\"sk-estimator sk-toggleable\"><input class=\"sk-toggleable__control sk-hidden--visually\" id=\"sk-estimator-id-2\" type=\"checkbox\" checked><label for=\"sk-estimator-id-2\" class=\"sk-toggleable__label sk-toggleable__label-arrow\">LogisticRegression</label><div class=\"sk-toggleable__content\"><pre>LogisticRegression(solver=&#x27;liblinear&#x27;)</pre></div></div></div></div></div>"
      ],
      "text/plain": [
       "LogisticRegression(solver='liblinear')"
      ]
     },
     "execution_count": 40,
     "metadata": {},
     "output_type": "execute_result"
    },
    {
     "data": {
      "application/javascript": [
       "\n",
       "            setTimeout(function() {\n",
       "                var nbb_cell_id = 40;\n",
       "                var nbb_unformatted_code = \"model.fit(X_train, train_targets)\";\n",
       "                var nbb_formatted_code = \"model.fit(X_train, train_targets)\";\n",
       "                var nbb_cells = Jupyter.notebook.get_cells();\n",
       "                for (var i = 0; i < nbb_cells.length; ++i) {\n",
       "                    if (nbb_cells[i].input_prompt_number == nbb_cell_id) {\n",
       "                        if (nbb_cells[i].get_text() == nbb_unformatted_code) {\n",
       "                             nbb_cells[i].set_text(nbb_formatted_code);\n",
       "                        }\n",
       "                        break;\n",
       "                    }\n",
       "                }\n",
       "            }, 500);\n",
       "            "
      ],
      "text/plain": [
       "<IPython.core.display.Javascript object>"
      ]
     },
     "metadata": {},
     "output_type": "display_data"
    }
   ],
   "source": [
    "model.fit(X_train, train_targets)"
   ]
  },
  {
   "cell_type": "markdown",
   "id": "23bcd686",
   "metadata": {},
   "source": [
    "Let's check the weights and biases of the trained model."
   ]
  },
  {
   "cell_type": "code",
   "execution_count": 41,
   "id": "342f297e",
   "metadata": {},
   "outputs": [
    {
     "name": "stdout",
     "output_type": "stream",
     "text": [
      "['Customer_care_calls', 'Customer_rating', 'Cost_of_the_Product', 'Prior_purchases', 'Discount_offered', 'Weight_in_gms', 'Warehouse_block_A', 'Warehouse_block_B', 'Warehouse_block_C', 'Warehouse_block_D', 'Warehouse_block_F', 'Mode_of_Shipment_Flight', 'Mode_of_Shipment_Road', 'Mode_of_Shipment_Ship', 'Product_importance_high', 'Product_importance_low', 'Product_importance_medium', 'Gender_F', 'Gender_M']\n"
     ]
    },
    {
     "data": {
      "application/javascript": [
       "\n",
       "            setTimeout(function() {\n",
       "                var nbb_cell_id = 41;\n",
       "                var nbb_unformatted_code = \"print(eda[\\\"numeric_cols\\\"] + eda[\\\"encoded_cols\\\"])\";\n",
       "                var nbb_formatted_code = \"print(eda[\\\"numeric_cols\\\"] + eda[\\\"encoded_cols\\\"])\";\n",
       "                var nbb_cells = Jupyter.notebook.get_cells();\n",
       "                for (var i = 0; i < nbb_cells.length; ++i) {\n",
       "                    if (nbb_cells[i].input_prompt_number == nbb_cell_id) {\n",
       "                        if (nbb_cells[i].get_text() == nbb_unformatted_code) {\n",
       "                             nbb_cells[i].set_text(nbb_formatted_code);\n",
       "                        }\n",
       "                        break;\n",
       "                    }\n",
       "                }\n",
       "            }, 500);\n",
       "            "
      ],
      "text/plain": [
       "<IPython.core.display.Javascript object>"
      ]
     },
     "metadata": {},
     "output_type": "display_data"
    }
   ],
   "source": [
    "print(eda[\"numeric_cols\"] + eda[\"encoded_cols\"])"
   ]
  },
  {
   "cell_type": "code",
   "execution_count": 42,
   "id": "62b42916",
   "metadata": {},
   "outputs": [
    {
     "name": "stdout",
     "output_type": "stream",
     "text": [
      "[[-0.6726748472608806, 0.15858878109025487, -0.4561396653184551, -0.45891359657755215, 6.679343972667584, -2.1847937819000647, 0.026998439886948142, 0.16917599128446853, 0.047057875064945194, 0.13662779510736647, 0.10525171373681658, 0.19531995842453834, 0.08838363758179694, 0.20140821907415854, 0.3672103310690841, 0.03400732695628207, 0.08389415705518055, 0.1983179375293816, 0.2867938775511106]]\n"
     ]
    },
    {
     "data": {
      "application/javascript": [
       "\n",
       "            setTimeout(function() {\n",
       "                var nbb_cell_id = 42;\n",
       "                var nbb_unformatted_code = \"print(model.coef_.tolist())\";\n",
       "                var nbb_formatted_code = \"print(model.coef_.tolist())\";\n",
       "                var nbb_cells = Jupyter.notebook.get_cells();\n",
       "                for (var i = 0; i < nbb_cells.length; ++i) {\n",
       "                    if (nbb_cells[i].input_prompt_number == nbb_cell_id) {\n",
       "                        if (nbb_cells[i].get_text() == nbb_unformatted_code) {\n",
       "                             nbb_cells[i].set_text(nbb_formatted_code);\n",
       "                        }\n",
       "                        break;\n",
       "                    }\n",
       "                }\n",
       "            }, 500);\n",
       "            "
      ],
      "text/plain": [
       "<IPython.core.display.Javascript object>"
      ]
     },
     "metadata": {},
     "output_type": "display_data"
    }
   ],
   "source": [
    "print(model.coef_.tolist())"
   ]
  },
  {
   "cell_type": "code",
   "execution_count": 43,
   "id": "67b7c9fb",
   "metadata": {},
   "outputs": [
    {
     "name": "stdout",
     "output_type": "stream",
     "text": [
      "[0.48511182]\n"
     ]
    },
    {
     "data": {
      "application/javascript": [
       "\n",
       "            setTimeout(function() {\n",
       "                var nbb_cell_id = 43;\n",
       "                var nbb_unformatted_code = \"print(model.intercept_)\";\n",
       "                var nbb_formatted_code = \"print(model.intercept_)\";\n",
       "                var nbb_cells = Jupyter.notebook.get_cells();\n",
       "                for (var i = 0; i < nbb_cells.length; ++i) {\n",
       "                    if (nbb_cells[i].input_prompt_number == nbb_cell_id) {\n",
       "                        if (nbb_cells[i].get_text() == nbb_unformatted_code) {\n",
       "                             nbb_cells[i].set_text(nbb_formatted_code);\n",
       "                        }\n",
       "                        break;\n",
       "                    }\n",
       "                }\n",
       "            }, 500);\n",
       "            "
      ],
      "text/plain": [
       "<IPython.core.display.Javascript object>"
      ]
     },
     "metadata": {},
     "output_type": "display_data"
    }
   ],
   "source": [
    "print(model.intercept_)"
   ]
  },
  {
   "cell_type": "markdown",
   "id": "9f9cc924",
   "metadata": {},
   "source": [
    "Let's print into a data frame the weights of each numeric and encoded columns."
   ]
  },
  {
   "cell_type": "code",
   "execution_count": 44,
   "id": "a44e1af3",
   "metadata": {},
   "outputs": [
    {
     "data": {
      "application/javascript": [
       "\n",
       "            setTimeout(function() {\n",
       "                var nbb_cell_id = 44;\n",
       "                var nbb_unformatted_code = \"feature_weight_df = pd.DataFrame(\\n    {\\n        \\\"feature\\\": (eda[\\\"numeric_cols\\\"] + eda[\\\"encoded_cols\\\"]),\\n        \\\"weight\\\": model.coef_.tolist()[0],\\n    }\\n)\";\n",
       "                var nbb_formatted_code = \"feature_weight_df = pd.DataFrame(\\n    {\\n        \\\"feature\\\": (eda[\\\"numeric_cols\\\"] + eda[\\\"encoded_cols\\\"]),\\n        \\\"weight\\\": model.coef_.tolist()[0],\\n    }\\n)\";\n",
       "                var nbb_cells = Jupyter.notebook.get_cells();\n",
       "                for (var i = 0; i < nbb_cells.length; ++i) {\n",
       "                    if (nbb_cells[i].input_prompt_number == nbb_cell_id) {\n",
       "                        if (nbb_cells[i].get_text() == nbb_unformatted_code) {\n",
       "                             nbb_cells[i].set_text(nbb_formatted_code);\n",
       "                        }\n",
       "                        break;\n",
       "                    }\n",
       "                }\n",
       "            }, 500);\n",
       "            "
      ],
      "text/plain": [
       "<IPython.core.display.Javascript object>"
      ]
     },
     "metadata": {},
     "output_type": "display_data"
    }
   ],
   "source": [
    "feature_weight_df = pd.DataFrame(\n",
    "    {\n",
    "        \"feature\": (eda[\"numeric_cols\"] + eda[\"encoded_cols\"]),\n",
    "        \"weight\": model.coef_.tolist()[0],\n",
    "    }\n",
    ")"
   ]
  },
  {
   "cell_type": "code",
   "execution_count": 45,
   "id": "6308c59a",
   "metadata": {},
   "outputs": [
    {
     "data": {
      "text/plain": [
       "<AxesSubplot:xlabel='weight', ylabel='feature'>"
      ]
     },
     "execution_count": 45,
     "metadata": {},
     "output_type": "execute_result"
    },
    {
     "data": {
      "image/png": "[encoded data removed]",
      "text/plain": [
       "<Figure size 1000x600 with 1 Axes>"
      ]
     },
     "metadata": {
      "needs_background": "light"
     },
     "output_type": "display_data"
    },
    {
     "data": {
      "application/javascript": [
       "\n",
       "            setTimeout(function() {\n",
       "                var nbb_cell_id = 45;\n",
       "                var nbb_unformatted_code = \"sns.barplot(\\n    data=feature_weight_df.sort_values(\\\"weight\\\", ascending=False),\\n    x=\\\"weight\\\",\\n    y=\\\"feature\\\",\\n)\";\n",
       "                var nbb_formatted_code = \"sns.barplot(\\n    data=feature_weight_df.sort_values(\\\"weight\\\", ascending=False),\\n    x=\\\"weight\\\",\\n    y=\\\"feature\\\",\\n)\";\n",
       "                var nbb_cells = Jupyter.notebook.get_cells();\n",
       "                for (var i = 0; i < nbb_cells.length; ++i) {\n",
       "                    if (nbb_cells[i].input_prompt_number == nbb_cell_id) {\n",
       "                        if (nbb_cells[i].get_text() == nbb_unformatted_code) {\n",
       "                             nbb_cells[i].set_text(nbb_formatted_code);\n",
       "                        }\n",
       "                        break;\n",
       "                    }\n",
       "                }\n",
       "            }, 500);\n",
       "            "
      ],
      "text/plain": [
       "<IPython.core.display.Javascript object>"
      ]
     },
     "metadata": {},
     "output_type": "display_data"
    }
   ],
   "source": [
    "sns.barplot(\n",
    "    data=feature_weight_df.sort_values(\"weight\", ascending=False),\n",
    "    x=\"weight\",\n",
    "    y=\"feature\",\n",
    ")"
   ]
  },
  {
   "cell_type": "markdown",
   "id": "408250ac",
   "metadata": {},
   "source": [
    "## Evaluating a model using a validation set and test set.\n",
    "\n",
    "We can now use the trained model to make predictions on the training, test"
   ]
  },
  {
   "cell_type": "code",
   "execution_count": 46,
   "id": "fdd0c878",
   "metadata": {},
   "outputs": [
    {
     "data": {
      "application/javascript": [
       "\n",
       "            setTimeout(function() {\n",
       "                var nbb_cell_id = 46;\n",
       "                var nbb_unformatted_code = \"train_preds = model.predict(X_train)\";\n",
       "                var nbb_formatted_code = \"train_preds = model.predict(X_train)\";\n",
       "                var nbb_cells = Jupyter.notebook.get_cells();\n",
       "                for (var i = 0; i < nbb_cells.length; ++i) {\n",
       "                    if (nbb_cells[i].input_prompt_number == nbb_cell_id) {\n",
       "                        if (nbb_cells[i].get_text() == nbb_unformatted_code) {\n",
       "                             nbb_cells[i].set_text(nbb_formatted_code);\n",
       "                        }\n",
       "                        break;\n",
       "                    }\n",
       "                }\n",
       "            }, 500);\n",
       "            "
      ],
      "text/plain": [
       "<IPython.core.display.Javascript object>"
      ]
     },
     "metadata": {},
     "output_type": "display_data"
    }
   ],
   "source": [
    "train_preds = model.predict(X_train)"
   ]
  },
  {
   "cell_type": "markdown",
   "id": "ab22e9c4",
   "metadata": {},
   "source": [
    "We can output a probabilistic prediction using predict_proba."
   ]
  },
  {
   "cell_type": "code",
   "execution_count": 47,
   "id": "0eeff2dc",
   "metadata": {},
   "outputs": [
    {
     "data": {
      "text/plain": [
       "array([[0.61192837, 0.38807163],\n",
       "       [0.39555791, 0.60444209],\n",
       "       [0.02756268, 0.97243732],\n",
       "       ...,\n",
       "       [0.42245064, 0.57754936],\n",
       "       [0.52401883, 0.47598117],\n",
       "       [0.57748868, 0.42251132]])"
      ]
     },
     "execution_count": 47,
     "metadata": {},
     "output_type": "execute_result"
    },
    {
     "data": {
      "application/javascript": [
       "\n",
       "            setTimeout(function() {\n",
       "                var nbb_cell_id = 47;\n",
       "                var nbb_unformatted_code = \"model.predict_proba(X_train)\";\n",
       "                var nbb_formatted_code = \"model.predict_proba(X_train)\";\n",
       "                var nbb_cells = Jupyter.notebook.get_cells();\n",
       "                for (var i = 0; i < nbb_cells.length; ++i) {\n",
       "                    if (nbb_cells[i].input_prompt_number == nbb_cell_id) {\n",
       "                        if (nbb_cells[i].get_text() == nbb_unformatted_code) {\n",
       "                             nbb_cells[i].set_text(nbb_formatted_code);\n",
       "                        }\n",
       "                        break;\n",
       "                    }\n",
       "                }\n",
       "            }, 500);\n",
       "            "
      ],
      "text/plain": [
       "<IPython.core.display.Javascript object>"
      ]
     },
     "metadata": {},
     "output_type": "display_data"
    }
   ],
   "source": [
    "model.predict_proba(X_train)"
   ]
  },
  {
   "cell_type": "markdown",
   "id": "aaa3fbd5",
   "metadata": {},
   "source": [
    "The numbers above indicate the probabilities for the target classes \"No\" and \"Yes\"."
   ]
  },
  {
   "cell_type": "code",
   "execution_count": 48,
   "id": "9c4189cc",
   "metadata": {},
   "outputs": [
    {
     "data": {
      "text/plain": [
       "array([0, 1])"
      ]
     },
     "execution_count": 48,
     "metadata": {},
     "output_type": "execute_result"
    },
    {
     "data": {
      "application/javascript": [
       "\n",
       "            setTimeout(function() {\n",
       "                var nbb_cell_id = 48;\n",
       "                var nbb_unformatted_code = \"model.classes_\";\n",
       "                var nbb_formatted_code = \"model.classes_\";\n",
       "                var nbb_cells = Jupyter.notebook.get_cells();\n",
       "                for (var i = 0; i < nbb_cells.length; ++i) {\n",
       "                    if (nbb_cells[i].input_prompt_number == nbb_cell_id) {\n",
       "                        if (nbb_cells[i].get_text() == nbb_unformatted_code) {\n",
       "                             nbb_cells[i].set_text(nbb_formatted_code);\n",
       "                        }\n",
       "                        break;\n",
       "                    }\n",
       "                }\n",
       "            }, 500);\n",
       "            "
      ],
      "text/plain": [
       "<IPython.core.display.Javascript object>"
      ]
     },
     "metadata": {},
     "output_type": "display_data"
    }
   ],
   "source": [
    "model.classes_"
   ]
  },
  {
   "cell_type": "markdown",
   "id": "b44e9485",
   "metadata": {},
   "source": [
    "We can test the accuracy of the model's predictions by computing the percentage of matching values in train_preds and train_targets.\n",
    "\n",
    "This can be done using the accuracy_score function from sklearn.metrics."
   ]
  },
  {
   "cell_type": "code",
   "execution_count": 49,
   "id": "e9afd695",
   "metadata": {},
   "outputs": [
    {
     "data": {
      "application/javascript": [
       "\n",
       "            setTimeout(function() {\n",
       "                var nbb_cell_id = 49;\n",
       "                var nbb_unformatted_code = \"from sklearn.metrics import accuracy_score\\nfrom sklearn.metrics import confusion_matrix\";\n",
       "                var nbb_formatted_code = \"from sklearn.metrics import accuracy_score\\nfrom sklearn.metrics import confusion_matrix\";\n",
       "                var nbb_cells = Jupyter.notebook.get_cells();\n",
       "                for (var i = 0; i < nbb_cells.length; ++i) {\n",
       "                    if (nbb_cells[i].input_prompt_number == nbb_cell_id) {\n",
       "                        if (nbb_cells[i].get_text() == nbb_unformatted_code) {\n",
       "                             nbb_cells[i].set_text(nbb_formatted_code);\n",
       "                        }\n",
       "                        break;\n",
       "                    }\n",
       "                }\n",
       "            }, 500);\n",
       "            "
      ],
      "text/plain": [
       "<IPython.core.display.Javascript object>"
      ]
     },
     "metadata": {},
     "output_type": "display_data"
    }
   ],
   "source": [
    "from sklearn.metrics import accuracy_score\n",
    "from sklearn.metrics import confusion_matrix"
   ]
  },
  {
   "cell_type": "markdown",
   "id": "8d81b95e",
   "metadata": {},
   "source": [
    "The model achieves an accuracy of 68.3% on the training set. We can visualize the breakdown of correctly and incorrectly classified inputs using a confusion matrix.\n",
    "\n",
    "<img src=\"https://i.imgur.com/UM28BCN.png\" width=\"480\">"
   ]
  },
  {
   "cell_type": "markdown",
   "id": "05a3e7a0",
   "metadata": {},
   "source": [
    "Let's define a helper function to generate predictions, compute the accuracy score and plot a confusion matrix for a given st of inputs."
   ]
  },
  {
   "cell_type": "code",
   "execution_count": 50,
   "id": "3e85d728",
   "metadata": {},
   "outputs": [
    {
     "data": {
      "application/javascript": [
       "\n",
       "            setTimeout(function() {\n",
       "                var nbb_cell_id = 50;\n",
       "                var nbb_unformatted_code = \"def predict_and_plot(inputs, targets, name=\\\"\\\"):\\n    preds = model.predict(inputs)\\n\\n    accuracy = accuracy_score(targets, preds)\\n    print(\\\"Accuracy: {:.2f}%\\\".format(accuracy * 100))\\n\\n    cf = confusion_matrix(targets, preds, normalize=\\\"true\\\")\\n    plt.figure()\\n    sns.heatmap(cf, annot=True)\\n    plt.xlabel(\\\"Prediction\\\")\\n    plt.ylabel(\\\"Target\\\")\\n    plt.title(\\\"{} Confusion Matrix\\\".format(name))\\n\\n    return preds\";\n",
       "                var nbb_formatted_code = \"def predict_and_plot(inputs, targets, name=\\\"\\\"):\\n    preds = model.predict(inputs)\\n\\n    accuracy = accuracy_score(targets, preds)\\n    print(\\\"Accuracy: {:.2f}%\\\".format(accuracy * 100))\\n\\n    cf = confusion_matrix(targets, preds, normalize=\\\"true\\\")\\n    plt.figure()\\n    sns.heatmap(cf, annot=True)\\n    plt.xlabel(\\\"Prediction\\\")\\n    plt.ylabel(\\\"Target\\\")\\n    plt.title(\\\"{} Confusion Matrix\\\".format(name))\\n\\n    return preds\";\n",
       "                var nbb_cells = Jupyter.notebook.get_cells();\n",
       "                for (var i = 0; i < nbb_cells.length; ++i) {\n",
       "                    if (nbb_cells[i].input_prompt_number == nbb_cell_id) {\n",
       "                        if (nbb_cells[i].get_text() == nbb_unformatted_code) {\n",
       "                             nbb_cells[i].set_text(nbb_formatted_code);\n",
       "                        }\n",
       "                        break;\n",
       "                    }\n",
       "                }\n",
       "            }, 500);\n",
       "            "
      ],
      "text/plain": [
       "<IPython.core.display.Javascript object>"
      ]
     },
     "metadata": {},
     "output_type": "display_data"
    }
   ],
   "source": [
    "def predict_and_plot(inputs, targets, name=\"\"):\n",
    "    preds = model.predict(inputs)\n",
    "\n",
    "    accuracy = accuracy_score(targets, preds)\n",
    "    print(\"Accuracy: {:.2f}%\".format(accuracy * 100))\n",
    "\n",
    "    cf = confusion_matrix(targets, preds, normalize=\"true\")\n",
    "    plt.figure()\n",
    "    sns.heatmap(cf, annot=True)\n",
    "    plt.xlabel(\"Prediction\")\n",
    "    plt.ylabel(\"Target\")\n",
    "    plt.title(\"{} Confusion Matrix\".format(name))\n",
    "\n",
    "    return preds"
   ]
  },
  {
   "cell_type": "markdown",
   "id": "b5ec8d1d",
   "metadata": {},
   "source": [
    "Let's compute the model's accuracy on the training set."
   ]
  },
  {
   "cell_type": "code",
   "execution_count": 51,
   "id": "23ce3905",
   "metadata": {},
   "outputs": [
    {
     "name": "stdout",
     "output_type": "stream",
     "text": [
      "Accuracy: 68.32%\n"
     ]
    },
    {
     "data": {
      "image/png": "[encoded data removed]",
      "text/plain": [
       "<Figure size 1000x600 with 2 Axes>"
      ]
     },
     "metadata": {
      "needs_background": "light"
     },
     "output_type": "display_data"
    },
    {
     "data": {
      "application/javascript": [
       "\n",
       "            setTimeout(function() {\n",
       "                var nbb_cell_id = 51;\n",
       "                var nbb_unformatted_code = \"train_preds = predict_and_plot(X_train, train_targets, \\\"Training\\\")\";\n",
       "                var nbb_formatted_code = \"train_preds = predict_and_plot(X_train, train_targets, \\\"Training\\\")\";\n",
       "                var nbb_cells = Jupyter.notebook.get_cells();\n",
       "                for (var i = 0; i < nbb_cells.length; ++i) {\n",
       "                    if (nbb_cells[i].input_prompt_number == nbb_cell_id) {\n",
       "                        if (nbb_cells[i].get_text() == nbb_unformatted_code) {\n",
       "                             nbb_cells[i].set_text(nbb_formatted_code);\n",
       "                        }\n",
       "                        break;\n",
       "                    }\n",
       "                }\n",
       "            }, 500);\n",
       "            "
      ],
      "text/plain": [
       "<IPython.core.display.Javascript object>"
      ]
     },
     "metadata": {},
     "output_type": "display_data"
    }
   ],
   "source": [
    "train_preds = predict_and_plot(X_train, train_targets, \"Training\")"
   ]
  },
  {
   "cell_type": "code",
   "execution_count": 52,
   "id": "e269d2f0",
   "metadata": {},
   "outputs": [
    {
     "name": "stdout",
     "output_type": "stream",
     "text": [
      "Accuracy: 66.31%\n"
     ]
    },
    {
     "data": {
      "image/png": "[encoded data removed]",
      "text/plain": [
       "<Figure size 1000x600 with 2 Axes>"
      ]
     },
     "metadata": {
      "needs_background": "light"
     },
     "output_type": "display_data"
    },
    {
     "data": {
      "application/javascript": [
       "\n",
       "            setTimeout(function() {\n",
       "                var nbb_cell_id = 52;\n",
       "                var nbb_unformatted_code = \"val_preds = predict_and_plot(X_val, val_targets, \\\"Validation\\\")\";\n",
       "                var nbb_formatted_code = \"val_preds = predict_and_plot(X_val, val_targets, \\\"Validation\\\")\";\n",
       "                var nbb_cells = Jupyter.notebook.get_cells();\n",
       "                for (var i = 0; i < nbb_cells.length; ++i) {\n",
       "                    if (nbb_cells[i].input_prompt_number == nbb_cell_id) {\n",
       "                        if (nbb_cells[i].get_text() == nbb_unformatted_code) {\n",
       "                             nbb_cells[i].set_text(nbb_formatted_code);\n",
       "                        }\n",
       "                        break;\n",
       "                    }\n",
       "                }\n",
       "            }, 500);\n",
       "            "
      ],
      "text/plain": [
       "<IPython.core.display.Javascript object>"
      ]
     },
     "metadata": {},
     "output_type": "display_data"
    }
   ],
   "source": [
    "val_preds = predict_and_plot(X_val, val_targets, \"Validation\")"
   ]
  },
  {
   "cell_type": "markdown",
   "id": "ca227861",
   "metadata": {},
   "source": [
    "The accuracy of the model on the test and validation set are above 68%, which suggests that our model generalizes well to data it hasn't seen before.\n",
    "\n",
    "But how good is 68% accuracy? While this depends on the nature of the problem and on business requirements, a good way to verify whether a model has actually learned something useful is to compare its results to a \"random\" or \"dumb\" model.\n",
    "\n",
    "Let's create two models: one that guesses randomly and another that always return \"No\". Both of these models completely ignore the inputs given to them."
   ]
  },
  {
   "cell_type": "code",
   "execution_count": 53,
   "id": "735ce11a",
   "metadata": {},
   "outputs": [
    {
     "data": {
      "application/javascript": [
       "\n",
       "            setTimeout(function() {\n",
       "                var nbb_cell_id = 53;\n",
       "                var nbb_unformatted_code = \"def random_guess(inputs):\\n    return np.random.choice([1, 0], len(inputs))\";\n",
       "                var nbb_formatted_code = \"def random_guess(inputs):\\n    return np.random.choice([1, 0], len(inputs))\";\n",
       "                var nbb_cells = Jupyter.notebook.get_cells();\n",
       "                for (var i = 0; i < nbb_cells.length; ++i) {\n",
       "                    if (nbb_cells[i].input_prompt_number == nbb_cell_id) {\n",
       "                        if (nbb_cells[i].get_text() == nbb_unformatted_code) {\n",
       "                             nbb_cells[i].set_text(nbb_formatted_code);\n",
       "                        }\n",
       "                        break;\n",
       "                    }\n",
       "                }\n",
       "            }, 500);\n",
       "            "
      ],
      "text/plain": [
       "<IPython.core.display.Javascript object>"
      ]
     },
     "metadata": {},
     "output_type": "display_data"
    }
   ],
   "source": [
    "def random_guess(inputs):\n",
    "    return np.random.choice([1, 0], len(inputs))"
   ]
  },
  {
   "cell_type": "code",
   "execution_count": 54,
   "id": "5d4965a0",
   "metadata": {},
   "outputs": [
    {
     "data": {
      "application/javascript": [
       "\n",
       "            setTimeout(function() {\n",
       "                var nbb_cell_id = 54;\n",
       "                var nbb_unformatted_code = \"def all_yes(inputs):\\n    return np.full(len(inputs), 1)\";\n",
       "                var nbb_formatted_code = \"def all_yes(inputs):\\n    return np.full(len(inputs), 1)\";\n",
       "                var nbb_cells = Jupyter.notebook.get_cells();\n",
       "                for (var i = 0; i < nbb_cells.length; ++i) {\n",
       "                    if (nbb_cells[i].input_prompt_number == nbb_cell_id) {\n",
       "                        if (nbb_cells[i].get_text() == nbb_unformatted_code) {\n",
       "                             nbb_cells[i].set_text(nbb_formatted_code);\n",
       "                        }\n",
       "                        break;\n",
       "                    }\n",
       "                }\n",
       "            }, 500);\n",
       "            "
      ],
      "text/plain": [
       "<IPython.core.display.Javascript object>"
      ]
     },
     "metadata": {},
     "output_type": "display_data"
    }
   ],
   "source": [
    "def all_yes(inputs):\n",
    "    return np.full(len(inputs), 1)"
   ]
  },
  {
   "cell_type": "markdown",
   "id": "e9a1cc7d",
   "metadata": {},
   "source": [
    "Let's check the accuracies of these two models on the test set."
   ]
  },
  {
   "cell_type": "code",
   "execution_count": 55,
   "id": "236489e0",
   "metadata": {},
   "outputs": [
    {
     "data": {
      "text/plain": [
       "0.47955555555555557"
      ]
     },
     "execution_count": 55,
     "metadata": {},
     "output_type": "execute_result"
    },
    {
     "data": {
      "application/javascript": [
       "\n",
       "            setTimeout(function() {\n",
       "                var nbb_cell_id = 55;\n",
       "                var nbb_unformatted_code = \"accuracy_score(val_targets, random_guess(X_val))\";\n",
       "                var nbb_formatted_code = \"accuracy_score(val_targets, random_guess(X_val))\";\n",
       "                var nbb_cells = Jupyter.notebook.get_cells();\n",
       "                for (var i = 0; i < nbb_cells.length; ++i) {\n",
       "                    if (nbb_cells[i].input_prompt_number == nbb_cell_id) {\n",
       "                        if (nbb_cells[i].get_text() == nbb_unformatted_code) {\n",
       "                             nbb_cells[i].set_text(nbb_formatted_code);\n",
       "                        }\n",
       "                        break;\n",
       "                    }\n",
       "                }\n",
       "            }, 500);\n",
       "            "
      ],
      "text/plain": [
       "<IPython.core.display.Javascript object>"
      ]
     },
     "metadata": {},
     "output_type": "display_data"
    }
   ],
   "source": [
    "accuracy_score(val_targets, random_guess(X_val))"
   ]
  },
  {
   "cell_type": "code",
   "execution_count": 56,
   "id": "4f8e467f",
   "metadata": {},
   "outputs": [
    {
     "data": {
      "text/plain": [
       "0.6315555555555555"
      ]
     },
     "execution_count": 56,
     "metadata": {},
     "output_type": "execute_result"
    },
    {
     "data": {
      "application/javascript": [
       "\n",
       "            setTimeout(function() {\n",
       "                var nbb_cell_id = 56;\n",
       "                var nbb_unformatted_code = \"accuracy_score(val_targets, all_yes(X_val))\";\n",
       "                var nbb_formatted_code = \"accuracy_score(val_targets, all_yes(X_val))\";\n",
       "                var nbb_cells = Jupyter.notebook.get_cells();\n",
       "                for (var i = 0; i < nbb_cells.length; ++i) {\n",
       "                    if (nbb_cells[i].input_prompt_number == nbb_cell_id) {\n",
       "                        if (nbb_cells[i].get_text() == nbb_unformatted_code) {\n",
       "                             nbb_cells[i].set_text(nbb_formatted_code);\n",
       "                        }\n",
       "                        break;\n",
       "                    }\n",
       "                }\n",
       "            }, 500);\n",
       "            "
      ],
      "text/plain": [
       "<IPython.core.display.Javascript object>"
      ]
     },
     "metadata": {},
     "output_type": "display_data"
    }
   ],
   "source": [
    "accuracy_score(val_targets, all_yes(X_val))"
   ]
  },
  {
   "cell_type": "markdown",
   "id": "07f43e85",
   "metadata": {},
   "source": [
    "## Getting and saving predictions"
   ]
  },
  {
   "cell_type": "markdown",
   "id": "9e2d0bb1",
   "metadata": {},
   "source": [
    "Les's predict values for the test set and put then to a csv file."
   ]
  },
  {
   "cell_type": "code",
   "execution_count": 57,
   "id": "dfee5dbd",
   "metadata": {},
   "outputs": [
    {
     "data": {
      "text/plain": [
       "2000"
      ]
     },
     "execution_count": 57,
     "metadata": {},
     "output_type": "execute_result"
    },
    {
     "data": {
      "application/javascript": [
       "\n",
       "            setTimeout(function() {\n",
       "                var nbb_cell_id = 57;\n",
       "                var nbb_unformatted_code = \"test_preds = model.predict(X_test)\\nlen(test_preds)\";\n",
       "                var nbb_formatted_code = \"test_preds = model.predict(X_test)\\nlen(test_preds)\";\n",
       "                var nbb_cells = Jupyter.notebook.get_cells();\n",
       "                for (var i = 0; i < nbb_cells.length; ++i) {\n",
       "                    if (nbb_cells[i].input_prompt_number == nbb_cell_id) {\n",
       "                        if (nbb_cells[i].get_text() == nbb_unformatted_code) {\n",
       "                             nbb_cells[i].set_text(nbb_formatted_code);\n",
       "                        }\n",
       "                        break;\n",
       "                    }\n",
       "                }\n",
       "            }, 500);\n",
       "            "
      ],
      "text/plain": [
       "<IPython.core.display.Javascript object>"
      ]
     },
     "metadata": {},
     "output_type": "display_data"
    }
   ],
   "source": [
    "test_preds = model.predict(X_test)\n",
    "len(test_preds)"
   ]
  },
  {
   "cell_type": "code",
   "execution_count": 58,
   "id": "a4a1af0e",
   "metadata": {},
   "outputs": [
    {
     "data": {
      "application/javascript": [
       "\n",
       "            setTimeout(function() {\n",
       "                var nbb_cell_id = 58;\n",
       "                var nbb_unformatted_code = \"pd.DataFrame({\\\"pred\\\": test_preds}).to_csv(\\\"../jorgeav527-logistic-regression.csv\\\", index=False)\";\n",
       "                var nbb_formatted_code = \"pd.DataFrame({\\\"pred\\\": test_preds}).to_csv(\\n    \\\"../jorgeav527-logistic-regression.csv\\\", index=False\\n)\";\n",
       "                var nbb_cells = Jupyter.notebook.get_cells();\n",
       "                for (var i = 0; i < nbb_cells.length; ++i) {\n",
       "                    if (nbb_cells[i].input_prompt_number == nbb_cell_id) {\n",
       "                        if (nbb_cells[i].get_text() == nbb_unformatted_code) {\n",
       "                             nbb_cells[i].set_text(nbb_formatted_code);\n",
       "                        }\n",
       "                        break;\n",
       "                    }\n",
       "                }\n",
       "            }, 500);\n",
       "            "
      ],
      "text/plain": [
       "<IPython.core.display.Javascript object>"
      ]
     },
     "metadata": {},
     "output_type": "display_data"
    }
   ],
   "source": [
    "pd.DataFrame({\"pred\": test_preds}).to_csv(\n",
    "    \"../jorgeav527-logistic-regression.csv\", index=False\n",
    ")"
   ]
  },
  {
   "cell_type": "markdown",
   "id": "0f901abb",
   "metadata": {},
   "source": [
    "## Conclusions about the model applied."
   ]
  },
  {
   "cell_type": "code",
   "execution_count": null,
   "id": "e2c8e3dc",
   "metadata": {},
   "outputs": [],
   "source": []
  }
 ],
 "metadata": {
  "kernelspec": {
   "display_name": "Python 3 (ipykernel)",
   "language": "python",
   "name": "python3"
  },
  "language_info": {
   "codemirror_mode": {
    "name": "ipython",
    "version": 3
   },
   "file_extension": ".py",
   "mimetype": "text/x-python",
   "name": "python",
   "nbconvert_exporter": "python",
   "pygments_lexer": "ipython3",
   "version": "3.8.10"
  }
 },
 "nbformat": 4,
 "nbformat_minor": 5
}
